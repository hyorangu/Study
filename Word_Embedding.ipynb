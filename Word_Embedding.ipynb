{
  "nbformat": 4,
  "nbformat_minor": 0,
  "metadata": {
    "colab": {
      "provenance": [],
      "mount_file_id": "1Mu5HjHonwvIpFv2zNLDwH3-swPsmsK5N",
      "authorship_tag": "ABX9TyNgbyn7VKKVyCf+GrmdUQBc",
      "include_colab_link": true
    },
    "kernelspec": {
      "name": "python3",
      "display_name": "Python 3"
    },
    "language_info": {
      "name": "python"
    }
  },
  "cells": [
    {
      "cell_type": "markdown",
      "metadata": {
        "id": "view-in-github",
        "colab_type": "text"
      },
      "source": [
        "<a href=\"https://colab.research.google.com/github/hyorangu/Study/blob/main/Word_Embedding.ipynb\" target=\"_parent\"><img src=\"https://colab.research.google.com/assets/colab-badge.svg\" alt=\"Open In Colab\"/></a>"
      ]
    },
    {
      "cell_type": "markdown",
      "source": [
        "# **1. 토픽 모델링 작업**"
      ],
      "metadata": {
        "id": "KKmYF9L-oHaS"
      }
    },
    {
      "cell_type": "code",
      "execution_count": 63,
      "metadata": {
        "id": "Q_7eE1BjnH18"
      },
      "outputs": [],
      "source": [
        "from sklearn.datasets import fetch_20newsgroups\n",
        "from sklearn.feature_extraction.text import CountVectorizer\n",
        "from sklearn.decomposition import LatentDirichletAllocation\n",
        "import numpy as np\n",
        "import matplotlib.pyplot as plt"
      ]
    },
    {
      "cell_type": "code",
      "source": [
        "# 선택한 뉴스그룹 주제들\n",
        "new_categories = ['soc.religion.christian', 'rec.sport.baseball', 'comp.os.ms-windows.misc', 'sci.med',\n",
        "                  'talk.politics.mideast', 'alt.atheism']"
      ],
      "metadata": {
        "id": "At6balAJnVOD"
      },
      "execution_count": 64,
      "outputs": []
    },
    {
      "cell_type": "code",
      "source": [
        "# 학습 데이터셋을 가져옴\n",
        "newsgroups_train = fetch_20newsgroups(subset='train', categories=new_categories)\n",
        "\n",
        "print('#Train set size:', len(newsgroups_train.data))\n",
        "print('#Selected categories:', newsgroups_train.target_names)"
      ],
      "metadata": {
        "colab": {
          "base_uri": "https://localhost:8080/"
        },
        "id": "k7bWywanneHo",
        "outputId": "cedbf9c6-da2e-474b-b346-8a7229e28143"
      },
      "execution_count": 65,
      "outputs": [
        {
          "output_type": "stream",
          "name": "stdout",
          "text": [
            "#Train set size: 3425\n",
            "#Selected categories: ['alt.atheism', 'comp.os.ms-windows.misc', 'rec.sport.baseball', 'sci.med', 'soc.religion.christian', 'talk.politics.mideast']\n"
          ]
        }
      ]
    },
    {
      "cell_type": "code",
      "source": [
        "# CountVectorizer를 사용하여 단어의 빈도를 기반으로 벡터화\n",
        "cv = CountVectorizer(token_pattern=\"[\\w']{3,}\", stop_words='english',\n",
        "                     max_features=2000, min_df=5, max_df=0.5)\n",
        "review_cv = cv.fit_transform(newsgroups_train.data)"
      ],
      "metadata": {
        "id": "cSKQzyCmnn11"
      },
      "execution_count": 66,
      "outputs": []
    },
    {
      "cell_type": "code",
      "source": [
        "# LatentDirichletAllocation을 사용하여 토픽 모델링\n",
        "lda = LatentDirichletAllocation(n_components=10,  # 추출할 topic의 수\n",
        "                                max_iter=5,\n",
        "                                topic_word_prior=0.1, doc_topic_prior=1.0,\n",
        "                                learning_method='online',\n",
        "                                n_jobs=-1,  # 사용 processor 수\n",
        "                                random_state=0)\n",
        "\n",
        "review_topics = lda.fit_transform(review_cv)\n",
        "print('#shape of review_topics:', review_topics.shape)\n",
        "print('#Sample of review_topics:', review_topics[0])\n",
        "\n",
        "gross_topic_weights = np.mean(review_topics, axis=0)\n",
        "print('#Sum of topic weights of documents:', gross_topic_weights)\n",
        "\n",
        "print('#shape of topic word distribution:', lda.components_.shape)"
      ],
      "metadata": {
        "colab": {
          "base_uri": "https://localhost:8080/"
        },
        "id": "iOByUY3rnpd6",
        "outputId": "1011e34b-51f9-4c52-8c08-131c97259fac"
      },
      "execution_count": 67,
      "outputs": [
        {
          "output_type": "stream",
          "name": "stdout",
          "text": [
            "#shape of review_topics: (3425, 10)\n",
            "#Sample of review_topics: [0.31009651 0.00578828 0.00498276 0.47454021 0.01621888 0.01993765\n",
            " 0.07592204 0.00416537 0.08541298 0.00293533]\n",
            "#Sum of topic weights of documents: [0.08023061 0.09946912 0.16531199 0.08847128 0.08503836 0.11180391\n",
            " 0.08644562 0.14568289 0.11687173 0.02067447]\n",
            "#shape of topic word distribution: (10, 2000)\n"
          ]
        }
      ]
    },
    {
      "cell_type": "code",
      "source": [
        "# 토픽 모델링 결과 출력 함수\n",
        "def print_top_words(model, feature_names, n_top_words):\n",
        "    for topic_idx, topic in enumerate(model.components_):\n",
        "        print(\"Topic #%d: \" % topic_idx, end='')\n",
        "        print(\", \".join([feature_names[i] for i in topic.argsort()[:-n_top_words - 1:-1]]))\n",
        "    print()\n",
        "\n",
        "print_top_words(lda, cv.get_feature_names_out(), 10)"
      ],
      "metadata": {
        "colab": {
          "base_uri": "https://localhost:8080/"
        },
        "id": "81pJkJtznua9",
        "outputId": "465f3c3d-1173-4170-8251-e59dfa648552"
      },
      "execution_count": 68,
      "outputs": [
        {
          "output_type": "stream",
          "name": "stdout",
          "text": [
            "Topic #0: god, life, hell, people, jesus, believe, bible, love, man, faith\n",
            "Topic #1: com, keith, posting, msg, nntp, host, health, food, medical, caltech\n",
            "Topic #2: windows, com, use, file, posting, host, university, nntp, thanks, mail\n",
            "Topic #3: church, jesus, law, christian, people, book, think, christians, paul, does\n",
            "Topic #4: university, science, com, michael, water, scientific, research, georgia, think, know\n",
            "Topic #5: israel, turkish, israeli, jews, armenian, people, armenians, war, armenia, government\n",
            "Topic #6: said, people, know, don't, just, like, didn't, time, going, i'm\n",
            "Topic #7: com, year, pitt, good, baseball, game, team, gordon, banks, better\n",
            "Topic #8: people, don't, think, does, believe, say, true, just, god, question\n",
            "Topic #9: 'ax, max, g9v, b8f, a86, 145, 1d9, 34u, 75u, 2di\n",
            "\n"
          ]
        }
      ]
    },
    {
      "cell_type": "code",
      "source": [
        "# perplexity를 시각화하여 최적의 토픽 수 찾기\n",
        "def show_perplexity(cv, start=10, end=30, max_iter=5, topic_word_prior=0.1,\n",
        "                    doc_topic_prior=1.0):\n",
        "    iter_num = []\n",
        "    per_value = []\n",
        "\n",
        "    for i in range(start, end + 1):\n",
        "        lda = LatentDirichletAllocation(n_components=i, max_iter=max_iter,\n",
        "                                        topic_word_prior=topic_word_prior,\n",
        "                                        doc_topic_prior=doc_topic_prior,\n",
        "                                        learning_method='batch', n_jobs=-1,\n",
        "                                        random_state=7)\n",
        "        lda.fit(cv)\n",
        "        iter_num.append(i)\n",
        "        pv = lda.perplexity(cv)\n",
        "        per_value.append(pv)\n",
        "        print(f'n_components: {i}, perplexity: {pv:0.3f}')\n",
        "\n",
        "    plt.plot(iter_num, per_value, 'g-')\n",
        "    plt.show()\n",
        "    return start + per_value.index(min(per_value))\n",
        "\n",
        "print(\"n_components with minimum perplexity:\",\n",
        "      show_perplexity(review_cv, start=6, end=15))"
      ],
      "metadata": {
        "colab": {
          "base_uri": "https://localhost:8080/",
          "height": 632
        },
        "id": "4DlPQ_9kny-X",
        "outputId": "625aa1a2-25d2-4170-e6bb-7615012f188f"
      },
      "execution_count": 69,
      "outputs": [
        {
          "output_type": "stream",
          "name": "stdout",
          "text": [
            "n_components: 6, perplexity: 354.220\n",
            "n_components: 7, perplexity: 344.778\n",
            "n_components: 8, perplexity: 345.852\n",
            "n_components: 9, perplexity: 338.311\n",
            "n_components: 10, perplexity: 330.533\n",
            "n_components: 11, perplexity: 330.494\n",
            "n_components: 12, perplexity: 338.060\n",
            "n_components: 13, perplexity: 326.570\n",
            "n_components: 14, perplexity: 327.823\n",
            "n_components: 15, perplexity: 328.854\n"
          ]
        },
        {
          "output_type": "display_data",
          "data": {
            "text/plain": [
              "<Figure size 640x480 with 1 Axes>"
            ],
            "image/png": "[encoded data removed]"
          },
          "metadata": {}
        },
        {
          "output_type": "stream",
          "name": "stdout",
          "text": [
            "n_components with minimum perplexity: 13\n"
          ]
        }
      ]
    },
    {
      "cell_type": "code",
      "source": [
        "# 최적의 토픽 수로 모델을 다시 학습하고 결과 출력\n",
        "optimal_topics = show_perplexity(review_cv, start=6, end=15)\n",
        "lda = LatentDirichletAllocation(n_components=optimal_topics,\n",
        "                                max_iter=20,\n",
        "                                topic_word_prior=0.1,\n",
        "                                doc_topic_prior=1.0,\n",
        "                                learning_method='batch',\n",
        "                                n_jobs=-1,\n",
        "                                random_state=7)\n",
        "\n",
        "review_topics = lda.fit_transform(review_cv)\n",
        "\n",
        "print_top_words(lda, cv.get_feature_names_out(), 10)"
      ],
      "metadata": {
        "colab": {
          "base_uri": "https://localhost:8080/",
          "height": 871
        },
        "id": "cfENmpTmn25j",
        "outputId": "deb496f3-ac94-480d-ccef-d036799d7305"
      },
      "execution_count": 70,
      "outputs": [
        {
          "output_type": "stream",
          "name": "stdout",
          "text": [
            "n_components: 6, perplexity: 354.220\n",
            "n_components: 7, perplexity: 344.778\n",
            "n_components: 8, perplexity: 345.852\n",
            "n_components: 9, perplexity: 338.311\n",
            "n_components: 10, perplexity: 330.533\n",
            "n_components: 11, perplexity: 330.494\n",
            "n_components: 12, perplexity: 338.060\n",
            "n_components: 13, perplexity: 326.570\n",
            "n_components: 14, perplexity: 327.823\n",
            "n_components: 15, perplexity: 328.854\n"
          ]
        },
        {
          "output_type": "display_data",
          "data": {
            "text/plain": [
              "<Figure size 640x480 with 1 Axes>"
            ],
            "image/png": "[encoded data removed]"
          },
          "metadata": {}
        },
        {
          "output_type": "stream",
          "name": "stdout",
          "text": [
            "Topic #0: said, people, know, don't, didn't, just, going, say, like, time\n",
            "Topic #1: information, 1993, new, research, health, university, number, medical, use, water\n",
            "Topic #2: msg, like, people, food, good, don't, it's, i'm, just, com\n",
            "Topic #3: israel, jews, israeli, jewish, arab, war, people, peace, state, arabs\n",
            "Topic #4: year, good, game, team, baseball, better, games, runs, think, players\n",
            "Topic #5: com, islam, jim, islamic, robert, netcom, ibm, princeton, just, net\n",
            "Topic #6: think, don't, god, people, believe, does, say, atheists, evidence, true\n",
            "Topic #7: turkish, armenian, armenians, armenia, turkey, people, turks, genocide, serdar, argic\n",
            "Topic #8: windows, file, use, files, dos, using, version, problem, access, card\n",
            "Topic #9: god, jesus, bible, church, christian, people, christians, christ, hell, does\n",
            "Topic #10: pitt, gordon, banks, michael, geb, uiuc, reply, computer, science, university\n",
            "Topic #11: posting, host, nntp, university, distribution, mail, usa, thanks, reply, news\n",
            "Topic #12: 'ax, max, g9v, b8f, a86, 145, 1d9, 34u, 75u, 2di\n",
            "\n"
          ]
        }
      ]
    },
    {
      "cell_type": "markdown",
      "source": [
        "# 2. word2vec을 사용해서 유사한 단어군들 **찾아보기**"
      ],
      "metadata": {
        "id": "3u3dqA_VoNtl"
      }
    },
    {
      "cell_type": "code",
      "source": [
        "!pip install nltk\n",
        "\n",
        "import pandas as pd\n",
        "from gensim.models import Word2Vec\n",
        "from nltk.tokenize import word_tokenize\n",
        "from nltk.corpus import stopwords\n",
        "from tqdm import tqdm\n",
        "import matplotlib.pyplot as plt\n",
        "import numpy as np"
      ],
      "metadata": {
        "colab": {
          "base_uri": "https://localhost:8080/"
        },
        "id": "txz1pAz6oTMS",
        "outputId": "2b1b877a-5f9c-4c5b-cbb7-1c57ad2623b7"
      },
      "execution_count": 71,
      "outputs": [
        {
          "output_type": "stream",
          "name": "stdout",
          "text": [
            "Requirement already satisfied: nltk in /usr/local/lib/python3.10/dist-packages (3.8.1)\n",
            "Requirement already satisfied: click in /usr/local/lib/python3.10/dist-packages (from nltk) (8.1.7)\n",
            "Requirement already satisfied: joblib in /usr/local/lib/python3.10/dist-packages (from nltk) (1.3.2)\n",
            "Requirement already satisfied: regex>=2021.8.3 in /usr/local/lib/python3.10/dist-packages (from nltk) (2023.6.3)\n",
            "Requirement already satisfied: tqdm in /usr/local/lib/python3.10/dist-packages (from nltk) (4.66.1)\n"
          ]
        }
      ]
    },
    {
      "cell_type": "code",
      "source": [
        "data_path = '/content/drive/MyDrive/학교 실습 파일/Womens Clothing E-Commerce Reviews.csv'"
      ],
      "metadata": {
        "id": "zQeocbTDxGU3"
      },
      "execution_count": 72,
      "outputs": []
    },
    {
      "cell_type": "code",
      "source": [
        "# Women's E-Commerce Clothing Reviews 데이터셋 로드\n",
        "df = pd.read_csv(data_path)"
      ],
      "metadata": {
        "id": "3Qra0xjNxhWm"
      },
      "execution_count": 73,
      "outputs": []
    },
    {
      "cell_type": "code",
      "source": [
        "# 데이터셋 일부 확인\n",
        "print(df.head())"
      ],
      "metadata": {
        "colab": {
          "base_uri": "https://localhost:8080/"
        },
        "id": "TkkH1h1Extfh",
        "outputId": "aee91703-3e21-4e1e-90eb-0d6f0d50242b"
      },
      "execution_count": 74,
      "outputs": [
        {
          "output_type": "stream",
          "name": "stdout",
          "text": [
            "   Unnamed: 0  Clothing ID  Age                    Title  \\\n",
            "0           0          767   33                      NaN   \n",
            "1           1         1080   34                      NaN   \n",
            "2           2         1077   60  Some major design flaws   \n",
            "3           3         1049   50         My favorite buy!   \n",
            "4           4          847   47         Flattering shirt   \n",
            "\n",
            "                                         Review Text  Rating  Recommended IND  \\\n",
            "0  Absolutely wonderful - silky and sexy and comf...       4                1   \n",
            "1  Love this dress!  it's sooo pretty.  i happene...       5                1   \n",
            "2  I had such high hopes for this dress and reall...       3                0   \n",
            "3  I love, love, love this jumpsuit. it's fun, fl...       5                1   \n",
            "4  This shirt is very flattering to all due to th...       5                1   \n",
            "\n",
            "   Positive Feedback Count   Division Name Department Name Class Name  \n",
            "0                        0       Initmates        Intimate  Intimates  \n",
            "1                        4         General         Dresses    Dresses  \n",
            "2                        0         General         Dresses    Dresses  \n",
            "3                        0  General Petite         Bottoms      Pants  \n",
            "4                        6         General            Tops    Blouses  \n"
          ]
        }
      ]
    },
    {
      "cell_type": "code",
      "source": [
        "# NULL 값 존재 유무 확인\n",
        "print(df.isnull().values.any())"
      ],
      "metadata": {
        "colab": {
          "base_uri": "https://localhost:8080/"
        },
        "id": "qlLXkxw2xxoW",
        "outputId": "cc0066db-173a-4815-c65e-162a14389b07"
      },
      "execution_count": 75,
      "outputs": [
        {
          "output_type": "stream",
          "name": "stdout",
          "text": [
            "True\n"
          ]
        }
      ]
    },
    {
      "cell_type": "code",
      "source": [
        "# NULL 값 제거\n",
        "df = df.dropna(subset=['Review Text'])\n",
        "print(df.isnull().values.any())"
      ],
      "metadata": {
        "colab": {
          "base_uri": "https://localhost:8080/"
        },
        "id": "1KH6y4Qrx0ut",
        "outputId": "9e5555ae-9504-4486-d30c-471e6bb98f5f"
      },
      "execution_count": 76,
      "outputs": [
        {
          "output_type": "stream",
          "name": "stdout",
          "text": [
            "True\n"
          ]
        }
      ]
    },
    {
      "cell_type": "code",
      "source": [
        "# NLTK를 사용하여 불용어 정의\n",
        "import nltk\n",
        "nltk.download('stopwords')\n",
        "\n",
        "stop_words = set(stopwords.words('english'))"
      ],
      "metadata": {
        "colab": {
          "base_uri": "https://localhost:8080/"
        },
        "id": "tVM1Zb_3x2i4",
        "outputId": "93a935b2-da99-4cfc-ec65-9b1d466eda15"
      },
      "execution_count": 77,
      "outputs": [
        {
          "output_type": "stream",
          "name": "stderr",
          "text": [
            "[nltk_data] Downloading package stopwords to /root/nltk_data...\n",
            "[nltk_data]   Package stopwords is already up-to-date!\n"
          ]
        }
      ]
    },
    {
      "cell_type": "code",
      "source": [
        "# NLTK를 사용하여 토큰화\n",
        "import nltk\n",
        "nltk.download('punkt')\n",
        "\n",
        "tokenized_data = []\n",
        "for sentence in tqdm(df['Review Text']):\n",
        "    words = word_tokenize(sentence)  # 영어 토큰화\n",
        "    words = [word.lower() for word in words if word.isalpha()]  # 영어 단어만 선택\n",
        "    words = [word for word in words if word not in stop_words]  # 불용어 제거\n",
        "    tokenized_data.append(words)"
      ],
      "metadata": {
        "colab": {
          "base_uri": "https://localhost:8080/"
        },
        "id": "oNTUyUKW1BBx",
        "outputId": "d4d9e061-5728-4dd6-ea64-1abc265f40f5"
      },
      "execution_count": 78,
      "outputs": [
        {
          "output_type": "stream",
          "name": "stderr",
          "text": [
            "[nltk_data] Downloading package punkt to /root/nltk_data...\n",
            "[nltk_data]   Package punkt is already up-to-date!\n",
            "100%|██████████| 22641/22641 [00:40<00:00, 563.49it/s]\n"
          ]
        }
      ]
    },
    {
      "cell_type": "code",
      "source": [
        "# 리뷰 길이 분포 확인\n",
        "print('리뷰의 최대 길이:', max(len(review) for review in tokenized_data))\n",
        "print('리뷰의 평균 길이:', sum(map(len, tokenized_data)) / len(tokenized_data))\n",
        "plt.hist([len(review) for review in tokenized_data], bins=50)\n",
        "plt.xlabel('length of samples')\n",
        "plt.ylabel('number of samples')\n",
        "plt.show()"
      ],
      "metadata": {
        "colab": {
          "base_uri": "https://localhost:8080/",
          "height": 486
        },
        "id": "VRde3zu2x5CR",
        "outputId": "ba725816-a5e7-422b-b746-bf72526f1cdc"
      },
      "execution_count": 79,
      "outputs": [
        {
          "output_type": "stream",
          "name": "stdout",
          "text": [
            "리뷰의 최대 길이: 58\n",
            "리뷰의 평균 길이: 27.61786140188154\n"
          ]
        },
        {
          "output_type": "display_data",
          "data": {
            "text/plain": [
              "<Figure size 640x480 with 1 Axes>"
            ],
            "image/png": "[encoded data removed]"
          },
          "metadata": {}
        }
      ]
    },
    {
      "cell_type": "code",
      "source": [
        "# Word2Vec 모델 학습\n",
        "model = Word2Vec(sentences=tokenized_data, vector_size=100, window=5, min_count=5, workers=4, sg=0)\n"
      ],
      "metadata": {
        "id": "2aMbGSr3x7Ms"
      },
      "execution_count": 80,
      "outputs": []
    },
    {
      "cell_type": "code",
      "source": [
        "# 학습된 모델 활용\n",
        "print(model.wv.most_similar(\"great\"))\n",
        "print(model.wv.most_similar(\"movie\"))"
      ],
      "metadata": {
        "colab": {
          "base_uri": "https://localhost:8080/"
        },
        "id": "w1jXpFBjx9WU",
        "outputId": "53fdd1b8-cd40-4906-f93a-0f7ed2242e97"
      },
      "execution_count": 81,
      "outputs": [
        {
          "output_type": "stream",
          "name": "stdout",
          "text": [
            "[('fantastic', 0.7862590551376343), ('good', 0.785386860370636), ('nice', 0.7363545298576355), ('awesome', 0.7340114712715149), ('amazing', 0.7319842576980591), ('fabulous', 0.7272597551345825), ('perfect', 0.6975669264793396), ('wonderful', 0.6552652716636658), ('excellent', 0.6543987393379211), ('bill', 0.6374205350875854)]\n",
            "[('buyer', 0.9677931070327759), ('activities', 0.9673190116882324), ('admittedly', 0.9668598771095276), ('panties', 0.9667820930480957), ('words', 0.9657604098320007), ('chair', 0.9651291966438293), ('dollars', 0.9632911086082458), ('skip', 0.9619457721710205), ('ups', 0.9617055654525757), ('upset', 0.9610630869865417)]\n"
          ]
        }
      ]
    },
    {
      "cell_type": "markdown",
      "source": [
        "# 3. **Doc2Vec**"
      ],
      "metadata": {
        "id": "N3_g_1nTqHEB"
      }
    },
    {
      "cell_type": "code",
      "source": [
        "!pip install konlpy\n",
        "\n",
        "import pandas as pd\n",
        "from konlpy.tag import Mecab\n",
        "from gensim.models.doc2vec import TaggedDocument\n",
        "from tqdm import tqdm"
      ],
      "metadata": {
        "colab": {
          "base_uri": "https://localhost:8080/"
        },
        "id": "Y1q0bxt2qJxP",
        "outputId": "6327d909-f91d-4dd3-98d6-bd3be98b222e"
      },
      "execution_count": 82,
      "outputs": [
        {
          "output_type": "stream",
          "name": "stdout",
          "text": [
            "Requirement already satisfied: konlpy in /usr/local/lib/python3.10/dist-packages (0.6.0)\n",
            "Requirement already satisfied: JPype1>=0.7.0 in /usr/local/lib/python3.10/dist-packages (from konlpy) (1.4.1)\n",
            "Requirement already satisfied: lxml>=4.1.0 in /usr/local/lib/python3.10/dist-packages (from konlpy) (4.9.3)\n",
            "Requirement already satisfied: numpy>=1.6 in /usr/local/lib/python3.10/dist-packages (from konlpy) (1.23.5)\n",
            "Requirement already satisfied: packaging in /usr/local/lib/python3.10/dist-packages (from JPype1>=0.7.0->konlpy) (23.2)\n"
          ]
        }
      ]
    },
    {
      "cell_type": "code",
      "source": [
        "from google.colab import drive\n",
        "drive.mount('/content/drive')"
      ],
      "metadata": {
        "colab": {
          "base_uri": "https://localhost:8080/"
        },
        "id": "OMq393d-qh-k",
        "outputId": "514e285c-8de4-4bc0-a4bd-cfb942cf4beb"
      },
      "execution_count": 83,
      "outputs": [
        {
          "output_type": "stream",
          "name": "stdout",
          "text": [
            "Drive already mounted at /content/drive; to attempt to forcibly remount, call drive.mount(\"/content/drive\", force_remount=True).\n"
          ]
        }
      ]
    },
    {
      "cell_type": "code",
      "source": [
        "df = pd.read_csv('/content/drive/MyDrive/학교 실습 파일/Womens Clothing E-Commerce Reviews.csv',  sep=',')\n",
        "df = df.dropna()\n",
        "df"
      ],
      "metadata": {
        "colab": {
          "base_uri": "https://localhost:8080/",
          "height": 424
        },
        "id": "F_hnqLxgqUTX",
        "outputId": "5c525008-9fe9-45f5-e02c-dd32487f0cf8"
      },
      "execution_count": 84,
      "outputs": [
        {
          "output_type": "execute_result",
          "data": {
            "text/plain": [
              "       Unnamed: 0  Clothing ID  Age  \\\n",
              "2               2         1077   60   \n",
              "3               3         1049   50   \n",
              "4               4          847   47   \n",
              "5               5         1080   49   \n",
              "6               6          858   39   \n",
              "...           ...          ...  ...   \n",
              "23481       23481         1104   34   \n",
              "23482       23482          862   48   \n",
              "23483       23483         1104   31   \n",
              "23484       23484         1084   28   \n",
              "23485       23485         1104   52   \n",
              "\n",
              "                                                   Title  \\\n",
              "2                                Some major design flaws   \n",
              "3                                       My favorite buy!   \n",
              "4                                       Flattering shirt   \n",
              "5                                Not for the very petite   \n",
              "6                                   Cagrcoal shimmer fun   \n",
              "...                                                  ...   \n",
              "23481                     Great dress for many occasions   \n",
              "23482                         Wish it was made of cotton   \n",
              "23483                              Cute, but see through   \n",
              "23484  Very cute dress, perfect for summer parties an...   \n",
              "23485                    Please make more like this one!   \n",
              "\n",
              "                                             Review Text  Rating  \\\n",
              "2      I had such high hopes for this dress and reall...       3   \n",
              "3      I love, love, love this jumpsuit. it's fun, fl...       5   \n",
              "4      This shirt is very flattering to all due to th...       5   \n",
              "5      I love tracy reese dresses, but this one is no...       2   \n",
              "6      I aded this in my basket at hte last mintue to...       5   \n",
              "...                                                  ...     ...   \n",
              "23481  I was very happy to snag this dress at such a ...       5   \n",
              "23482  It reminds me of maternity clothes. soft, stre...       3   \n",
              "23483  This fit well, but the top was very see throug...       3   \n",
              "23484  I bought this dress for a wedding i have this ...       3   \n",
              "23485  This dress in a lovely platinum is feminine an...       5   \n",
              "\n",
              "       Recommended IND  Positive Feedback Count   Division Name  \\\n",
              "2                    0                        0         General   \n",
              "3                    1                        0  General Petite   \n",
              "4                    1                        6         General   \n",
              "5                    0                        4         General   \n",
              "6                    1                        1  General Petite   \n",
              "...                ...                      ...             ...   \n",
              "23481                1                        0  General Petite   \n",
              "23482                1                        0  General Petite   \n",
              "23483                0                        1  General Petite   \n",
              "23484                1                        2         General   \n",
              "23485                1                       22  General Petite   \n",
              "\n",
              "      Department Name Class Name  \n",
              "2             Dresses    Dresses  \n",
              "3             Bottoms      Pants  \n",
              "4                Tops    Blouses  \n",
              "5             Dresses    Dresses  \n",
              "6                Tops      Knits  \n",
              "...               ...        ...  \n",
              "23481         Dresses    Dresses  \n",
              "23482            Tops      Knits  \n",
              "23483         Dresses    Dresses  \n",
              "23484         Dresses    Dresses  \n",
              "23485         Dresses    Dresses  \n",
              "\n",
              "[19662 rows x 11 columns]"
            ],
            "text/html": [
              "\n",
              "  <div id=\"df-8bd54cb1-7382-45a8-ad5c-21730978270b\" class=\"colab-df-container\">\n",
              "    <div>\n",
              "<style scoped>\n",
              "    .dataframe tbody tr th:only-of-type {\n",
              "        vertical-align: middle;\n",
              "    }\n",
              "\n",
              "    .dataframe tbody tr th {\n",
              "        vertical-align: top;\n",
              "    }\n",
              "\n",
              "    .dataframe thead th {\n",
              "        text-align: right;\n",
              "    }\n",
              "</style>\n",
              "<table border=\"1\" class=\"dataframe\">\n",
              "  <thead>\n",
              "    <tr style=\"text-align: right;\">\n",
              "      <th></th>\n",
              "      <th>Unnamed: 0</th>\n",
              "      <th>Clothing ID</th>\n",
              "      <th>Age</th>\n",
              "      <th>Title</th>\n",
              "      <th>Review Text</th>\n",
              "      <th>Rating</th>\n",
              "      <th>Recommended IND</th>\n",
              "      <th>Positive Feedback Count</th>\n",
              "      <th>Division Name</th>\n",
              "      <th>Department Name</th>\n",
              "      <th>Class Name</th>\n",
              "    </tr>\n",
              "  </thead>\n",
              "  <tbody>\n",
              "    <tr>\n",
              "      <th>2</th>\n",
              "      <td>2</td>\n",
              "      <td>1077</td>\n",
              "      <td>60</td>\n",
              "      <td>Some major design flaws</td>\n",
              "      <td>I had such high hopes for this dress and reall...</td>\n",
              "      <td>3</td>\n",
              "      <td>0</td>\n",
              "      <td>0</td>\n",
              "      <td>General</td>\n",
              "      <td>Dresses</td>\n",
              "      <td>Dresses</td>\n",
              "    </tr>\n",
              "    <tr>\n",
              "      <th>3</th>\n",
              "      <td>3</td>\n",
              "      <td>1049</td>\n",
              "      <td>50</td>\n",
              "      <td>My favorite buy!</td>\n",
              "      <td>I love, love, love this jumpsuit. it's fun, fl...</td>\n",
              "      <td>5</td>\n",
              "      <td>1</td>\n",
              "      <td>0</td>\n",
              "      <td>General Petite</td>\n",
              "      <td>Bottoms</td>\n",
              "      <td>Pants</td>\n",
              "    </tr>\n",
              "    <tr>\n",
              "      <th>4</th>\n",
              "      <td>4</td>\n",
              "      <td>847</td>\n",
              "      <td>47</td>\n",
              "      <td>Flattering shirt</td>\n",
              "      <td>This shirt is very flattering to all due to th...</td>\n",
              "      <td>5</td>\n",
              "      <td>1</td>\n",
              "      <td>6</td>\n",
              "      <td>General</td>\n",
              "      <td>Tops</td>\n",
              "      <td>Blouses</td>\n",
              "    </tr>\n",
              "    <tr>\n",
              "      <th>5</th>\n",
              "      <td>5</td>\n",
              "      <td>1080</td>\n",
              "      <td>49</td>\n",
              "      <td>Not for the very petite</td>\n",
              "      <td>I love tracy reese dresses, but this one is no...</td>\n",
              "      <td>2</td>\n",
              "      <td>0</td>\n",
              "      <td>4</td>\n",
              "      <td>General</td>\n",
              "      <td>Dresses</td>\n",
              "      <td>Dresses</td>\n",
              "    </tr>\n",
              "    <tr>\n",
              "      <th>6</th>\n",
              "      <td>6</td>\n",
              "      <td>858</td>\n",
              "      <td>39</td>\n",
              "      <td>Cagrcoal shimmer fun</td>\n",
              "      <td>I aded this in my basket at hte last mintue to...</td>\n",
              "      <td>5</td>\n",
              "      <td>1</td>\n",
              "      <td>1</td>\n",
              "      <td>General Petite</td>\n",
              "      <td>Tops</td>\n",
              "      <td>Knits</td>\n",
              "    </tr>\n",
              "    <tr>\n",
              "      <th>...</th>\n",
              "      <td>...</td>\n",
              "      <td>...</td>\n",
              "      <td>...</td>\n",
              "      <td>...</td>\n",
              "      <td>...</td>\n",
              "      <td>...</td>\n",
              "      <td>...</td>\n",
              "      <td>...</td>\n",
              "      <td>...</td>\n",
              "      <td>...</td>\n",
              "      <td>...</td>\n",
              "    </tr>\n",
              "    <tr>\n",
              "      <th>23481</th>\n",
              "      <td>23481</td>\n",
              "      <td>1104</td>\n",
              "      <td>34</td>\n",
              "      <td>Great dress for many occasions</td>\n",
              "      <td>I was very happy to snag this dress at such a ...</td>\n",
              "      <td>5</td>\n",
              "      <td>1</td>\n",
              "      <td>0</td>\n",
              "      <td>General Petite</td>\n",
              "      <td>Dresses</td>\n",
              "      <td>Dresses</td>\n",
              "    </tr>\n",
              "    <tr>\n",
              "      <th>23482</th>\n",
              "      <td>23482</td>\n",
              "      <td>862</td>\n",
              "      <td>48</td>\n",
              "      <td>Wish it was made of cotton</td>\n",
              "      <td>It reminds me of maternity clothes. soft, stre...</td>\n",
              "      <td>3</td>\n",
              "      <td>1</td>\n",
              "      <td>0</td>\n",
              "      <td>General Petite</td>\n",
              "      <td>Tops</td>\n",
              "      <td>Knits</td>\n",
              "    </tr>\n",
              "    <tr>\n",
              "      <th>23483</th>\n",
              "      <td>23483</td>\n",
              "      <td>1104</td>\n",
              "      <td>31</td>\n",
              "      <td>Cute, but see through</td>\n",
              "      <td>This fit well, but the top was very see throug...</td>\n",
              "      <td>3</td>\n",
              "      <td>0</td>\n",
              "      <td>1</td>\n",
              "      <td>General Petite</td>\n",
              "      <td>Dresses</td>\n",
              "      <td>Dresses</td>\n",
              "    </tr>\n",
              "    <tr>\n",
              "      <th>23484</th>\n",
              "      <td>23484</td>\n",
              "      <td>1084</td>\n",
              "      <td>28</td>\n",
              "      <td>Very cute dress, perfect for summer parties an...</td>\n",
              "      <td>I bought this dress for a wedding i have this ...</td>\n",
              "      <td>3</td>\n",
              "      <td>1</td>\n",
              "      <td>2</td>\n",
              "      <td>General</td>\n",
              "      <td>Dresses</td>\n",
              "      <td>Dresses</td>\n",
              "    </tr>\n",
              "    <tr>\n",
              "      <th>23485</th>\n",
              "      <td>23485</td>\n",
              "      <td>1104</td>\n",
              "      <td>52</td>\n",
              "      <td>Please make more like this one!</td>\n",
              "      <td>This dress in a lovely platinum is feminine an...</td>\n",
              "      <td>5</td>\n",
              "      <td>1</td>\n",
              "      <td>22</td>\n",
              "      <td>General Petite</td>\n",
              "      <td>Dresses</td>\n",
              "      <td>Dresses</td>\n",
              "    </tr>\n",
              "  </tbody>\n",
              "</table>\n",
              "<p>19662 rows × 11 columns</p>\n",
              "</div>\n",
              "    <div class=\"colab-df-buttons\">\n",
              "\n",
              "  <div class=\"colab-df-container\">\n",
              "    <button class=\"colab-df-convert\" onclick=\"convertToInteractive('df-8bd54cb1-7382-45a8-ad5c-21730978270b')\"\n",
              "            title=\"Convert this dataframe to an interactive table.\"\n",
              "            style=\"display:none;\">\n",
              "\n",
              "  <svg xmlns=\"http://www.w3.org/2000/svg\" height=\"24px\" viewBox=\"0 -960 960 960\">\n",
              "    <path d=\"M120-120v-720h720v720H120Zm60-500h600v-160H180v160Zm220 220h160v-160H400v160Zm0 220h160v-160H400v160ZM180-400h160v-160H180v160Zm440 0h160v-160H620v160ZM180-180h160v-160H180v160Zm440 0h160v-160H620v160Z\"/>\n",
              "  </svg>\n",
              "    </button>\n",
              "\n",
              "  <style>\n",
              "    .colab-df-container {\n",
              "      display:flex;\n",
              "      gap: 12px;\n",
              "    }\n",
              "\n",
              "    .colab-df-convert {\n",
              "      background-color: #E8F0FE;\n",
              "      border: none;\n",
              "      border-radius: 50%;\n",
              "      cursor: pointer;\n",
              "      display: none;\n",
              "      fill: #1967D2;\n",
              "      height: 32px;\n",
              "      padding: 0 0 0 0;\n",
              "      width: 32px;\n",
              "    }\n",
              "\n",
              "    .colab-df-convert:hover {\n",
              "      background-color: #E2EBFA;\n",
              "      box-shadow: 0px 1px 2px rgba(60, 64, 67, 0.3), 0px 1px 3px 1px rgba(60, 64, 67, 0.15);\n",
              "      fill: #174EA6;\n",
              "    }\n",
              "\n",
              "    .colab-df-buttons div {\n",
              "      margin-bottom: 4px;\n",
              "    }\n",
              "\n",
              "    [theme=dark] .colab-df-convert {\n",
              "      background-color: #3B4455;\n",
              "      fill: #D2E3FC;\n",
              "    }\n",
              "\n",
              "    [theme=dark] .colab-df-convert:hover {\n",
              "      background-color: #434B5C;\n",
              "      box-shadow: 0px 1px 3px 1px rgba(0, 0, 0, 0.15);\n",
              "      filter: drop-shadow(0px 1px 2px rgba(0, 0, 0, 0.3));\n",
              "      fill: #FFFFFF;\n",
              "    }\n",
              "  </style>\n",
              "\n",
              "    <script>\n",
              "      const buttonEl =\n",
              "        document.querySelector('#df-8bd54cb1-7382-45a8-ad5c-21730978270b button.colab-df-convert');\n",
              "      buttonEl.style.display =\n",
              "        google.colab.kernel.accessAllowed ? 'block' : 'none';\n",
              "\n",
              "      async function convertToInteractive(key) {\n",
              "        const element = document.querySelector('#df-8bd54cb1-7382-45a8-ad5c-21730978270b');\n",
              "        const dataTable =\n",
              "          await google.colab.kernel.invokeFunction('convertToInteractive',\n",
              "                                                    [key], {});\n",
              "        if (!dataTable) return;\n",
              "\n",
              "        const docLinkHtml = 'Like what you see? Visit the ' +\n",
              "          '<a target=\"_blank\" href=https://colab.research.google.com/notebooks/data_table.ipynb>data table notebook</a>'\n",
              "          + ' to learn more about interactive tables.';\n",
              "        element.innerHTML = '';\n",
              "        dataTable['output_type'] = 'display_data';\n",
              "        await google.colab.output.renderOutput(dataTable, element);\n",
              "        const docLink = document.createElement('div');\n",
              "        docLink.innerHTML = docLinkHtml;\n",
              "        element.appendChild(docLink);\n",
              "      }\n",
              "    </script>\n",
              "  </div>\n",
              "\n",
              "\n",
              "<div id=\"df-1e3baf2e-7c18-4bba-bccb-f16d32b31b9e\">\n",
              "  <button class=\"colab-df-quickchart\" onclick=\"quickchart('df-1e3baf2e-7c18-4bba-bccb-f16d32b31b9e')\"\n",
              "            title=\"Suggest charts\"\n",
              "            style=\"display:none;\">\n",
              "\n",
              "<svg xmlns=\"http://www.w3.org/2000/svg\" height=\"24px\"viewBox=\"0 0 24 24\"\n",
              "     width=\"24px\">\n",
              "    <g>\n",
              "        <path d=\"M19 3H5c-1.1 0-2 .9-2 2v14c0 1.1.9 2 2 2h14c1.1 0 2-.9 2-2V5c0-1.1-.9-2-2-2zM9 17H7v-7h2v7zm4 0h-2V7h2v10zm4 0h-2v-4h2v4z\"/>\n",
              "    </g>\n",
              "</svg>\n",
              "  </button>\n",
              "\n",
              "<style>\n",
              "  .colab-df-quickchart {\n",
              "      --bg-color: #E8F0FE;\n",
              "      --fill-color: #1967D2;\n",
              "      --hover-bg-color: #E2EBFA;\n",
              "      --hover-fill-color: #174EA6;\n",
              "      --disabled-fill-color: #AAA;\n",
              "      --disabled-bg-color: #DDD;\n",
              "  }\n",
              "\n",
              "  [theme=dark] .colab-df-quickchart {\n",
              "      --bg-color: #3B4455;\n",
              "      --fill-color: #D2E3FC;\n",
              "      --hover-bg-color: #434B5C;\n",
              "      --hover-fill-color: #FFFFFF;\n",
              "      --disabled-bg-color: #3B4455;\n",
              "      --disabled-fill-color: #666;\n",
              "  }\n",
              "\n",
              "  .colab-df-quickchart {\n",
              "    background-color: var(--bg-color);\n",
              "    border: none;\n",
              "    border-radius: 50%;\n",
              "    cursor: pointer;\n",
              "    display: none;\n",
              "    fill: var(--fill-color);\n",
              "    height: 32px;\n",
              "    padding: 0;\n",
              "    width: 32px;\n",
              "  }\n",
              "\n",
              "  .colab-df-quickchart:hover {\n",
              "    background-color: var(--hover-bg-color);\n",
              "    box-shadow: 0 1px 2px rgba(60, 64, 67, 0.3), 0 1px 3px 1px rgba(60, 64, 67, 0.15);\n",
              "    fill: var(--button-hover-fill-color);\n",
              "  }\n",
              "\n",
              "  .colab-df-quickchart-complete:disabled,\n",
              "  .colab-df-quickchart-complete:disabled:hover {\n",
              "    background-color: var(--disabled-bg-color);\n",
              "    fill: var(--disabled-fill-color);\n",
              "    box-shadow: none;\n",
              "  }\n",
              "\n",
              "  .colab-df-spinner {\n",
              "    border: 2px solid var(--fill-color);\n",
              "    border-color: transparent;\n",
              "    border-bottom-color: var(--fill-color);\n",
              "    animation:\n",
              "      spin 1s steps(1) infinite;\n",
              "  }\n",
              "\n",
              "  @keyframes spin {\n",
              "    0% {\n",
              "      border-color: transparent;\n",
              "      border-bottom-color: var(--fill-color);\n",
              "      border-left-color: var(--fill-color);\n",
              "    }\n",
              "    20% {\n",
              "      border-color: transparent;\n",
              "      border-left-color: var(--fill-color);\n",
              "      border-top-color: var(--fill-color);\n",
              "    }\n",
              "    30% {\n",
              "      border-color: transparent;\n",
              "      border-left-color: var(--fill-color);\n",
              "      border-top-color: var(--fill-color);\n",
              "      border-right-color: var(--fill-color);\n",
              "    }\n",
              "    40% {\n",
              "      border-color: transparent;\n",
              "      border-right-color: var(--fill-color);\n",
              "      border-top-color: var(--fill-color);\n",
              "    }\n",
              "    60% {\n",
              "      border-color: transparent;\n",
              "      border-right-color: var(--fill-color);\n",
              "    }\n",
              "    80% {\n",
              "      border-color: transparent;\n",
              "      border-right-color: var(--fill-color);\n",
              "      border-bottom-color: var(--fill-color);\n",
              "    }\n",
              "    90% {\n",
              "      border-color: transparent;\n",
              "      border-bottom-color: var(--fill-color);\n",
              "    }\n",
              "  }\n",
              "</style>\n",
              "\n",
              "  <script>\n",
              "    async function quickchart(key) {\n",
              "      const quickchartButtonEl =\n",
              "        document.querySelector('#' + key + ' button');\n",
              "      quickchartButtonEl.disabled = true;  // To prevent multiple clicks.\n",
              "      quickchartButtonEl.classList.add('colab-df-spinner');\n",
              "      try {\n",
              "        const charts = await google.colab.kernel.invokeFunction(\n",
              "            'suggestCharts', [key], {});\n",
              "      } catch (error) {\n",
              "        console.error('Error during call to suggestCharts:', error);\n",
              "      }\n",
              "      quickchartButtonEl.classList.remove('colab-df-spinner');\n",
              "      quickchartButtonEl.classList.add('colab-df-quickchart-complete');\n",
              "    }\n",
              "    (() => {\n",
              "      let quickchartButtonEl =\n",
              "        document.querySelector('#df-1e3baf2e-7c18-4bba-bccb-f16d32b31b9e button');\n",
              "      quickchartButtonEl.style.display =\n",
              "        google.colab.kernel.accessAllowed ? 'block' : 'none';\n",
              "    })();\n",
              "  </script>\n",
              "</div>\n",
              "    </div>\n",
              "  </div>\n"
            ]
          },
          "metadata": {},
          "execution_count": 84
        }
      ]
    },
    {
      "cell_type": "code",
      "source": [
        "#mecab = Mecab()\n",
        "from konlpy.tag import Okt\n",
        "okt = Okt()\n",
        "\n",
        "tagged_corpus_list = []\n",
        "\n",
        "for index, row in tqdm(df.iterrows(), total=len(df)):\n",
        "    text = row['Review Text']\n",
        "    tag = row['Class Name']\n",
        "    tagged_corpus_list.append(TaggedDocument(tags=[tag], words=okt.morphs(text)))\n",
        "\n",
        "print('문서의 수 :', len(tagged_corpus_list))"
      ],
      "metadata": {
        "colab": {
          "base_uri": "https://localhost:8080/"
        },
        "id": "TlQQoBZdq5nJ",
        "outputId": "90aeec66-b447-464d-de2b-f370cf57e883"
      },
      "execution_count": 85,
      "outputs": [
        {
          "output_type": "stream",
          "name": "stderr",
          "text": [
            "100%|██████████| 19662/19662 [02:31<00:00, 129.75it/s]"
          ]
        },
        {
          "output_type": "stream",
          "name": "stdout",
          "text": [
            "문서의 수 : 19662\n"
          ]
        },
        {
          "output_type": "stream",
          "name": "stderr",
          "text": [
            "\n"
          ]
        }
      ]
    },
    {
      "cell_type": "code",
      "source": [
        "tagged_corpus_list[0]"
      ],
      "metadata": {
        "colab": {
          "base_uri": "https://localhost:8080/"
        },
        "id": "jcDcOCiYr_jY",
        "outputId": "21491409-c927-4d55-d9a7-b8751076e5f0"
      },
      "execution_count": 86,
      "outputs": [
        {
          "output_type": "execute_result",
          "data": {
            "text/plain": [
              "TaggedDocument(words=['I', 'had', 'such', 'high', 'hopes', 'for', 'this', 'dress', 'and', 'really', 'wanted', 'it', 'to', 'work', 'for', 'me', '.', 'i', 'initially', 'ordered', 'the', 'petite', 'small', '(', 'my', 'usual', 'size', ')', 'but', 'i', 'found', 'this', 'to', 'be', 'outrageously', 'small', '.', 'so', 'small', 'in', 'fact', 'that', 'i', 'could', 'not', 'zip', 'it', 'up', '!', 'i', 'reordered', 'it', 'in', 'petite', 'medium', ',', 'which', 'was', 'just', 'ok', '.', 'overall', ',', 'the', 'top', 'half', 'was', 'comfortable', 'and', 'fit', 'nicely', ',', 'but', 'the', 'bottom', 'half', 'had', 'a', 'very', 'tight', 'under', 'layer', 'and', 'several', 'somewhat', 'cheap', '(', 'net', ')', 'over', 'layers', '.', 'imo', ',', 'a', 'major', 'design', 'flaw', 'was', 'the', 'net', 'over', 'layer', 'sewn', 'directly', 'into', 'the', 'zipper', '-', 'it', 'c'], tags=['Dresses'])"
            ]
          },
          "metadata": {},
          "execution_count": 86
        }
      ]
    },
    {
      "cell_type": "code",
      "source": [
        "from gensim.models import doc2vec"
      ],
      "metadata": {
        "id": "0F38xTsXsBeW"
      },
      "execution_count": 87,
      "outputs": []
    },
    {
      "cell_type": "code",
      "source": [
        "model = doc2vec.Doc2Vec(vector_size=300, alpha=0.025, min_alpha=0.025, workers=8, window=8)\n",
        "\n",
        "# Vocabulary 빌드\n",
        "model.build_vocab(tagged_corpus_list)\n",
        "#print(f\"Tag Size: {len(model.docvecs.doctags.keys())}\", end=' / ')\n",
        "\n",
        "# Doc2Vec 학습\n",
        "model.train(tagged_corpus_list, total_examples=model.corpus_count, epochs=50)\n",
        "\n",
        "# 모델 저장\n",
        "model.save('WomensClothingReviews.doc2vec')"
      ],
      "metadata": {
        "id": "2TOurot4sFEI"
      },
      "execution_count": 88,
      "outputs": []
    },
    {
      "cell_type": "code",
      "source": [
        "similar_doc = model.dv.most_similar('Dresses')\n",
        "print(similar_doc)"
      ],
      "metadata": {
        "colab": {
          "base_uri": "https://localhost:8080/"
        },
        "id": "GJ72qDrnsHl8",
        "outputId": "83785417-ab31-4655-b607-3182465f363f"
      },
      "execution_count": 93,
      "outputs": [
        {
          "output_type": "stream",
          "name": "stdout",
          "text": [
            "[('Chemises', 0.5255148410797119), ('Skirts', 0.43104711174964905), ('Blouses', 0.3686714768409729), ('Lounge', 0.34798261523246765), ('Fine gauge', 0.33964139223098755), ('Trend', 0.33227163553237915), ('Sweaters', 0.3243301212787628), ('Swim', 0.3171188533306122), ('Knits', 0.31583237648010254), ('Jackets', 0.3053090572357178)]\n"
          ]
        }
      ]
    },
    {
      "cell_type": "code",
      "source": [
        "similar_doc = model.dv.most_similar('Pants')\n",
        "print(similar_doc)"
      ],
      "metadata": {
        "colab": {
          "base_uri": "https://localhost:8080/"
        },
        "id": "ffIV3JUXsIGE",
        "outputId": "815eb65e-ff19-4543-f9e7-7518a561cfd6"
      },
      "execution_count": 94,
      "outputs": [
        {
          "output_type": "stream",
          "name": "stdout",
          "text": [
            "[('Jeans', 0.5152004361152649), ('Lounge', 0.4690096974372864), ('Shorts', 0.4669322967529297), ('Casual bottoms', 0.46367740631103516), ('Legwear', 0.3908075988292694), ('Chemises', 0.35606521368026733), ('Sleep', 0.35602545738220215), ('Swim', 0.31128019094467163), ('Blouses', 0.2971009612083435), ('Knits', 0.272469162940979)]\n"
          ]
        }
      ]
    },
    {
      "cell_type": "code",
      "source": [
        "similar_doc = model.dv.most_similar('Blouses')\n",
        "print(similar_doc)"
      ],
      "metadata": {
        "colab": {
          "base_uri": "https://localhost:8080/"
        },
        "id": "_qS6GYLdsJtQ",
        "outputId": "209086f6-92cb-4c3b-fb37-1827967e905f"
      },
      "execution_count": 95,
      "outputs": [
        {
          "output_type": "stream",
          "name": "stdout",
          "text": [
            "[('Knits', 0.6314436793327332), ('Chemises', 0.5048619508743286), ('Casual bottoms', 0.4302922189235687), ('Fine gauge', 0.4158622920513153), ('Dresses', 0.3686714470386505), ('Skirts', 0.3680531978607178), ('Layering', 0.36412617564201355), ('Jackets', 0.36115866899490356), ('Sweaters', 0.3577306270599365), ('Swim', 0.3487706482410431)]\n"
          ]
        }
      ]
    },
    {
      "cell_type": "code",
      "source": [
        "similar_doc = model.dv.most_similar('Knits')\n",
        "print(similar_doc)"
      ],
      "metadata": {
        "colab": {
          "base_uri": "https://localhost:8080/"
        },
        "id": "19Kn1Q_YsLWN",
        "outputId": "3d475d03-5565-41d8-bc72-37a4133f41bd"
      },
      "execution_count": 96,
      "outputs": [
        {
          "output_type": "stream",
          "name": "stdout",
          "text": [
            "[('Blouses', 0.6314436793327332), ('Chemises', 0.4939593970775604), ('Fine gauge', 0.48034778237342834), ('Sweaters', 0.4700234830379486), ('Casual bottoms', 0.46615996956825256), ('Layering', 0.43191173672676086), ('Jackets', 0.3868440091609955), ('Lounge', 0.38242125511169434), ('Swim', 0.36263757944107056), ('Intimates', 0.3310200870037079)]\n"
          ]
        }
      ]
    }
  ]
}